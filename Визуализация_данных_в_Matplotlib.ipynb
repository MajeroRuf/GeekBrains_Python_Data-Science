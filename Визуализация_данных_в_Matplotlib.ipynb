{
  "nbformat": 4,
  "nbformat_minor": 0,
  "metadata": {
    "colab": {
      "name": "Визуализация данных в Matplotlib.ipynb",
      "provenance": [],
      "collapsed_sections": [],
      "toc_visible": true,
      "mount_file_id": "1MQTye-0SuuUCpP4eb60qjrxihJiWsl22",
      "authorship_tag": "ABX9TyPLMPUwFa6yBhmVtIEhJIB0",
      "include_colab_link": true
    },
    "kernelspec": {
      "name": "python3",
      "display_name": "Python 3"
    },
    "language_info": {
      "name": "python"
    }
  },
  "cells": [
    {
      "cell_type": "markdown",
      "metadata": {
        "id": "view-in-github",
        "colab_type": "text"
      },
      "source": [
        "<a href=\"https://colab.research.google.com/github/MajeroRuf/GeekBrains_Python_Data-Science/blob/main/%D0%92%D0%B8%D0%B7%D1%83%D0%B0%D0%BB%D0%B8%D0%B7%D0%B0%D1%86%D0%B8%D1%8F_%D0%B4%D0%B0%D0%BD%D0%BD%D1%8B%D1%85_%D0%B2_Matplotlib.ipynb\" target=\"_parent\"><img src=\"https://colab.research.google.com/assets/colab-badge.svg\" alt=\"Open In Colab\"/></a>"
      ]
    },
    {
      "cell_type": "markdown",
      "metadata": {
        "id": "k1gF3CQ2NdAG"
      },
      "source": [
        "#Тема “Визуализация данных в Matplotlib”"
      ]
    },
    {
      "cell_type": "markdown",
      "metadata": {
        "id": "iuXCpWS8NouH"
      },
      "source": [
        "####Задание 1"
      ]
    },
    {
      "cell_type": "markdown",
      "metadata": {
        "id": "7EuIeAWQN45X"
      },
      "source": [
        "Загрузите модуль pyplot библиотеки matplotlib с псевдонимом plt, а также библиотеку numpy с псевдонимом np."
      ]
    },
    {
      "cell_type": "code",
      "metadata": {
        "id": "NgM-EvSFNYts"
      },
      "source": [
        "from matplotlib import pyplot as plt\n",
        "import numpy as np"
      ],
      "execution_count": 91,
      "outputs": []
    },
    {
      "cell_type": "markdown",
      "metadata": {
        "id": "JE-jsBhVOVHC"
      },
      "source": [
        "Примените магическую функцию %matplotlib inline для отображения графиков в Jupyter Notebook и настройки конфигурации ноутбука со значением 'svg' для более четкого отображения графиков."
      ]
    },
    {
      "cell_type": "code",
      "metadata": {
        "id": "TnSf_qlCOZ9t"
      },
      "source": [
        "%matplotlib inline"
      ],
      "execution_count": 92,
      "outputs": []
    },
    {
      "cell_type": "markdown",
      "metadata": {
        "id": "nyjisYoEOogK"
      },
      "source": [
        "Создайте список под названием x с числами 1, 2, 3, 4, 5, 6, 7\n",
        " и список y с числами 3.5, 3.8, 4.2, 4.5, 5, 5.5, 7."
      ]
    },
    {
      "cell_type": "code",
      "metadata": {
        "id": "giqmVmcEOvZE"
      },
      "source": [
        "x = [1, 2, 3, 4, 5, 6, 7]\n",
        "y = [3.5, 3.8, 4.2, 4.5, 5, 5.5, 7.]"
      ],
      "execution_count": 93,
      "outputs": []
    },
    {
      "cell_type": "markdown",
      "metadata": {
        "id": "eZHU83KMO8_z"
      },
      "source": [
        "С помощью функции plot постройте график, соединяющий линиями точки с горизонтальными координатами из списка x и вертикальными - из списка y."
      ]
    },
    {
      "cell_type": "code",
      "metadata": {
        "colab": {
          "base_uri": "https://localhost:8080/",
          "height": 262
        },
        "id": "G1DfGbLtPCdT",
        "outputId": "5285e8d5-7de0-406a-cb30-ff95fcaa52ff"
      },
      "source": [
        "plt.plot(x, y)\n",
        "plt.show()"
      ],
      "execution_count": 94,
      "outputs": [
        {
          "output_type": "display_data",
          "data": {
            "image/png": "[encoded data removed]",
            "text/plain": [
              "<Figure size 432x288 with 1 Axes>"
            ]
          },
          "metadata": {
            "tags": [],
            "needs_background": "light"
          }
        }
      ]
    },
    {
      "cell_type": "markdown",
      "metadata": {
        "id": "LUdbpSSIQWbY"
      },
      "source": [
        "Затем в следующей ячейке постройте диаграмму рассеяния (другие названия - диаграмма разброса, scatter plot)."
      ]
    },
    {
      "cell_type": "code",
      "metadata": {
        "colab": {
          "base_uri": "https://localhost:8080/",
          "height": 262
        },
        "id": "XZ-uewLMQYw_",
        "outputId": "74106140-a55b-49e3-b778-bec60dd2ceb2"
      },
      "source": [
        "plt.scatter(x, y)\n",
        "plt.show()"
      ],
      "execution_count": 95,
      "outputs": [
        {
          "output_type": "display_data",
          "data": {
            "image/png": "[encoded data removed]",
            "text/plain": [
              "<Figure size 432x288 with 1 Axes>"
            ]
          },
          "metadata": {
            "tags": [],
            "needs_background": "light"
          }
        }
      ]
    },
    {
      "cell_type": "markdown",
      "metadata": {
        "id": "NXRnFxFkQkfm"
      },
      "source": [
        "####Задание 2"
      ]
    },
    {
      "cell_type": "markdown",
      "metadata": {
        "id": "EbNbtARYQqr5"
      },
      "source": [
        "С помощью функции linspace из библиотеки Numpy создайте массив t из 51 числа от 0 до 10 включительно."
      ]
    },
    {
      "cell_type": "code",
      "metadata": {
        "colab": {
          "base_uri": "https://localhost:8080/"
        },
        "id": "VGrreX7sQ1ZC",
        "outputId": "f3506ddd-a53b-4cf4-c206-a666724c48cb"
      },
      "source": [
        "t = np.linspace(0, 10, num=51)\n",
        "print(t)"
      ],
      "execution_count": 96,
      "outputs": [
        {
          "output_type": "stream",
          "text": [
            "[ 0.   0.2  0.4  0.6  0.8  1.   1.2  1.4  1.6  1.8  2.   2.2  2.4  2.6\n",
            "  2.8  3.   3.2  3.4  3.6  3.8  4.   4.2  4.4  4.6  4.8  5.   5.2  5.4\n",
            "  5.6  5.8  6.   6.2  6.4  6.6  6.8  7.   7.2  7.4  7.6  7.8  8.   8.2\n",
            "  8.4  8.6  8.8  9.   9.2  9.4  9.6  9.8 10. ]\n"
          ],
          "name": "stdout"
        }
      ]
    },
    {
      "cell_type": "markdown",
      "metadata": {
        "id": "XB_j8xRWREFi"
      },
      "source": [
        "Создайте массив Numpy под названием f, содержащий косинусы элементов массива t."
      ]
    },
    {
      "cell_type": "code",
      "metadata": {
        "colab": {
          "base_uri": "https://localhost:8080/"
        },
        "id": "9YFFFTlJTm8e",
        "outputId": "5395cc51-4dbc-4dd4-ba92-19b1211ed465"
      },
      "source": [
        "f = np.cos(t)\n",
        "print(f)"
      ],
      "execution_count": 97,
      "outputs": [
        {
          "output_type": "stream",
          "text": [
            "[ 1.          0.98006658  0.92106099  0.82533561  0.69670671  0.54030231\n",
            "  0.36235775  0.16996714 -0.02919952 -0.22720209 -0.41614684 -0.58850112\n",
            " -0.73739372 -0.85688875 -0.94222234 -0.9899925  -0.99829478 -0.96679819\n",
            " -0.89675842 -0.79096771 -0.65364362 -0.49026082 -0.30733287 -0.11215253\n",
            "  0.08749898  0.28366219  0.46851667  0.63469288  0.77556588  0.88551952\n",
            "  0.96017029  0.9965421   0.99318492  0.95023259  0.86939749  0.75390225\n",
            "  0.60835131  0.43854733  0.25125984  0.05395542 -0.14550003 -0.33915486\n",
            " -0.51928865 -0.67872005 -0.81109301 -0.91113026 -0.97484362 -0.99969304\n",
            " -0.98468786 -0.93042627 -0.83907153]\n"
          ],
          "name": "stdout"
        }
      ]
    },
    {
      "cell_type": "markdown",
      "metadata": {
        "id": "n4QLINeMUKh6"
      },
      "source": [
        "Постройте линейную диаграмму, используя массив t для координат по горизонтали,а массив f - для координат по вертикали. Линия графика должна быть зеленого цвета."
      ]
    },
    {
      "cell_type": "code",
      "metadata": {
        "colab": {
          "base_uri": "https://localhost:8080/",
          "height": 279
        },
        "id": "kSIrZhJLVovb",
        "outputId": "2b82988c-5f5f-4746-ce5f-bdb58c398a3c"
      },
      "source": [
        "plt.plot(t, f, color='green')\n",
        "plt.show"
      ],
      "execution_count": 98,
      "outputs": [
        {
          "output_type": "execute_result",
          "data": {
            "text/plain": [
              "<function matplotlib.pyplot.show>"
            ]
          },
          "metadata": {
            "tags": []
          },
          "execution_count": 98
        },
        {
          "output_type": "display_data",
          "data": {
            "image/png": "[encoded data removed]",
            "text/plain": [
              "<Figure size 432x288 with 1 Axes>"
            ]
          },
          "metadata": {
            "tags": [],
            "needs_background": "light"
          }
        }
      ]
    },
    {
      "cell_type": "markdown",
      "metadata": {
        "id": "IISP9G3rUQpZ"
      },
      "source": [
        "Выведите название диаграммы - 'График f(t)'. Также добавьте названия для горизонтальной оси - 'Значения t' и для вертикальной - 'Значения f'."
      ]
    },
    {
      "cell_type": "markdown",
      "metadata": {
        "id": "njC9935DXt9p"
      },
      "source": [
        "Ограничьте график по оси x значениями 0.5 и 9.5, а по оси y - значениями -2.5 и 2.5."
      ]
    },
    {
      "cell_type": "code",
      "metadata": {
        "colab": {
          "base_uri": "https://localhost:8080/",
          "height": 296
        },
        "id": "LJoEiU2JWdwM",
        "outputId": "0a705b6f-2b9d-4e89-b3a2-c982867010b3"
      },
      "source": [
        "plt.plot(t, f, color='green')\n",
        "plt.title('График f(t)')\n",
        "plt.xlabel('Значения t')\n",
        "plt.ylabel('Значения f')\n",
        "plt.axis([0.5, 9.5, -2.5, 2.5])\n",
        "plt.show()"
      ],
      "execution_count": 99,
      "outputs": [
        {
          "output_type": "display_data",
          "data": {
            "image/png": "[encoded data removed]",
            "text/plain": [
              "<Figure size 432x288 with 1 Axes>"
            ]
          },
          "metadata": {
            "tags": [],
            "needs_background": "light"
          }
        }
      ]
    },
    {
      "cell_type": "markdown",
      "metadata": {
        "id": "w08cS5KiY34r"
      },
      "source": [
        "####*Задание 3"
      ]
    },
    {
      "cell_type": "markdown",
      "metadata": {
        "id": "OJ_eKZTUY66p"
      },
      "source": [
        "С помощью функции linspace библиотеки Numpy создайте массив x из 51 числа от -3 до 3 включительно.\n",
        "\n",
        "Создайте массивы y1, y2, y3, y4 по следующим формулам:\n",
        "\n",
        "y1 = x**2\n",
        "\n",
        "y2 = 2 * x + 0.5\n",
        "\n",
        "y3 = -3 * x - 1.5\n",
        "\n",
        "y4 = sin(x)\n"
      ]
    },
    {
      "cell_type": "code",
      "metadata": {
        "colab": {
          "base_uri": "https://localhost:8080/"
        },
        "id": "i27y1XhSaSRo",
        "outputId": "3e3e2b13-0612-4c76-d325-5dae8ff09079"
      },
      "source": [
        "x = np.linspace(-3, 3, 51)\n",
        "print(x)"
      ],
      "execution_count": 100,
      "outputs": [
        {
          "output_type": "stream",
          "text": [
            "[-3.   -2.88 -2.76 -2.64 -2.52 -2.4  -2.28 -2.16 -2.04 -1.92 -1.8  -1.68\n",
            " -1.56 -1.44 -1.32 -1.2  -1.08 -0.96 -0.84 -0.72 -0.6  -0.48 -0.36 -0.24\n",
            " -0.12  0.    0.12  0.24  0.36  0.48  0.6   0.72  0.84  0.96  1.08  1.2\n",
            "  1.32  1.44  1.56  1.68  1.8   1.92  2.04  2.16  2.28  2.4   2.52  2.64\n",
            "  2.76  2.88  3.  ]\n"
          ],
          "name": "stdout"
        }
      ]
    },
    {
      "cell_type": "code",
      "metadata": {
        "colab": {
          "base_uri": "https://localhost:8080/"
        },
        "id": "37oETlIWideg",
        "outputId": "e65671eb-94fa-42b2-86d4-2848bf84a808"
      },
      "source": [
        "y1 = x ** 2\n",
        "print(y1)"
      ],
      "execution_count": 101,
      "outputs": [
        {
          "output_type": "stream",
          "text": [
            "[9.     8.2944 7.6176 6.9696 6.3504 5.76   5.1984 4.6656 4.1616 3.6864\n",
            " 3.24   2.8224 2.4336 2.0736 1.7424 1.44   1.1664 0.9216 0.7056 0.5184\n",
            " 0.36   0.2304 0.1296 0.0576 0.0144 0.     0.0144 0.0576 0.1296 0.2304\n",
            " 0.36   0.5184 0.7056 0.9216 1.1664 1.44   1.7424 2.0736 2.4336 2.8224\n",
            " 3.24   3.6864 4.1616 4.6656 5.1984 5.76   6.3504 6.9696 7.6176 8.2944\n",
            " 9.    ]\n"
          ],
          "name": "stdout"
        }
      ]
    },
    {
      "cell_type": "code",
      "metadata": {
        "colab": {
          "base_uri": "https://localhost:8080/"
        },
        "id": "FaALLfPJihFT",
        "outputId": "40fe753a-b547-45cb-b5ec-902a554965d6"
      },
      "source": [
        "y2 = 2 * x + 0.5\n",
        "print(y2)"
      ],
      "execution_count": 102,
      "outputs": [
        {
          "output_type": "stream",
          "text": [
            "[-5.5  -5.26 -5.02 -4.78 -4.54 -4.3  -4.06 -3.82 -3.58 -3.34 -3.1  -2.86\n",
            " -2.62 -2.38 -2.14 -1.9  -1.66 -1.42 -1.18 -0.94 -0.7  -0.46 -0.22  0.02\n",
            "  0.26  0.5   0.74  0.98  1.22  1.46  1.7   1.94  2.18  2.42  2.66  2.9\n",
            "  3.14  3.38  3.62  3.86  4.1   4.34  4.58  4.82  5.06  5.3   5.54  5.78\n",
            "  6.02  6.26  6.5 ]\n"
          ],
          "name": "stdout"
        }
      ]
    },
    {
      "cell_type": "code",
      "metadata": {
        "colab": {
          "base_uri": "https://localhost:8080/"
        },
        "id": "5Giwaif0ima8",
        "outputId": "e1a0fd98-4e73-4245-cb63-0d04e5bc0ee7"
      },
      "source": [
        "y3 = -3 * x + 0.5\n",
        "print(y3)"
      ],
      "execution_count": 103,
      "outputs": [
        {
          "output_type": "stream",
          "text": [
            "[ 9.5   9.14  8.78  8.42  8.06  7.7   7.34  6.98  6.62  6.26  5.9   5.54\n",
            "  5.18  4.82  4.46  4.1   3.74  3.38  3.02  2.66  2.3   1.94  1.58  1.22\n",
            "  0.86  0.5   0.14 -0.22 -0.58 -0.94 -1.3  -1.66 -2.02 -2.38 -2.74 -3.1\n",
            " -3.46 -3.82 -4.18 -4.54 -4.9  -5.26 -5.62 -5.98 -6.34 -6.7  -7.06 -7.42\n",
            " -7.78 -8.14 -8.5 ]\n"
          ],
          "name": "stdout"
        }
      ]
    },
    {
      "cell_type": "code",
      "metadata": {
        "colab": {
          "base_uri": "https://localhost:8080/"
        },
        "id": "E09bs93WirKD",
        "outputId": "a64b4a77-b9e7-4573-f25f-3cf462ce3112"
      },
      "source": [
        "y4 = np.sin(x)\n",
        "print(y4)"
      ],
      "execution_count": 104,
      "outputs": [
        {
          "output_type": "stream",
          "text": [
            "[-0.14112001 -0.25861935 -0.37239904 -0.48082261 -0.58233065 -0.67546318\n",
            " -0.75888071 -0.83138346 -0.89192865 -0.93964547 -0.97384763 -0.9940432\n",
            " -0.99994172 -0.99145835 -0.9687151  -0.93203909 -0.88195781 -0.81919157\n",
            " -0.74464312 -0.65938467 -0.56464247 -0.46177918 -0.35227423 -0.23770263\n",
            " -0.11971221  0.          0.11971221  0.23770263  0.35227423  0.46177918\n",
            "  0.56464247  0.65938467  0.74464312  0.81919157  0.88195781  0.93203909\n",
            "  0.9687151   0.99145835  0.99994172  0.9940432   0.97384763  0.93964547\n",
            "  0.89192865  0.83138346  0.75888071  0.67546318  0.58233065  0.48082261\n",
            "  0.37239904  0.25861935  0.14112001]\n"
          ],
          "name": "stdout"
        }
      ]
    },
    {
      "cell_type": "markdown",
      "metadata": {
        "id": "5VyshIS5bt7p"
      },
      "source": [
        "Используя функцию subplots модуля matplotlib.pyplot, создайте объект matplotlib.figure.Figure с названием fig и массив объектов Axes под названием ax,причем так, чтобы у вас было 4 отдельных графика в сетке, состоящей из двух строк и двух столбцов. В каждом графике массив x используется для координат по горизонтали.В левом верхнем графике для координат по вертикали используйте y1,в правом верхнем - y2, в левом нижнем - y3, в правом нижнем - y4.Дайте название графикам: 'График y1', 'График y2' и т.д.\n",
        "\n",
        "Для графика в левом верхнем углу установите границы по оси x от -5 до 5.\n",
        "\n",
        "Установите размеры фигуры 8 дюймов по горизонтали и 6 дюймов по вертикали.\n",
        "\n",
        "Вертикальные и горизонтальные зазоры между графиками должны составлять 0.3.\n"
      ]
    },
    {
      "cell_type": "code",
      "metadata": {
        "colab": {
          "base_uri": "https://localhost:8080/",
          "height": 405
        },
        "id": "A9AM3CiscCMe",
        "outputId": "f34791fe-5da9-4df8-dbc7-5a9157d62a9c"
      },
      "source": [
        "fig, ax = plt.subplots(nrows=2, ncols=2)\n",
        "ax1, ax2, ax3, ax4 = ax.flatten()\n",
        "ax1.plot(x, y1)\n",
        "ax1.set_title('График y1')\n",
        "ax1.set_xlim([-5, 5])\n",
        "ax2.plot(x, y2)\n",
        "ax2.set_title('График y2')\n",
        "ax3.plot(x, y3)\n",
        "ax3.set_title('График y3')\n",
        "ax4.plot(x, y4)\n",
        "ax4.set_title('График y4')\n",
        "\n",
        "fig.set_size_inches(8, 6)\n",
        "fig.subplots_adjust(wspace=0.3, hspace=0.3)\n",
        "\n",
        "plt.show"
      ],
      "execution_count": 105,
      "outputs": [
        {
          "output_type": "execute_result",
          "data": {
            "text/plain": [
              "<function matplotlib.pyplot.show>"
            ]
          },
          "metadata": {
            "tags": []
          },
          "execution_count": 105
        },
        {
          "output_type": "display_data",
          "data": {
            "image/png": "[encoded data removed]",
            "text/plain": [
              "<Figure size 576x432 with 4 Axes>"
            ]
          },
          "metadata": {
            "tags": [],
            "needs_background": "light"
          }
        }
      ]
    },
    {
      "cell_type": "markdown",
      "metadata": {
        "id": "TB4b6Pj7mBHp"
      },
      "source": [
        "####*Задание 4"
      ]
    },
    {
      "cell_type": "markdown",
      "metadata": {
        "id": "Su0s14zAmmO3"
      },
      "source": [
        "В этом задании мы будем работать с датасетом, в котором приведены данные по мошенничеству с кредитными данными: Credit Card Fraud Detection (информация об авторах: Andrea Dal Pozzolo, Olivier Caelen, Reid A. Johnson and Gianluca Bontempi. Calibrating Probability with Undersampling for Unbalanced Classification. In Symposium on Computational Intelligence and Data Mining (CIDM), IEEE, 2015).\n"
      ]
    },
    {
      "cell_type": "markdown",
      "metadata": {
        "id": "G2Jbb-QRmp1P"
      },
      "source": [
        "Ознакомьтесь с описанием и скачайте датасет creditcard.csv с сайта Kaggle.com по ссылке:\n",
        "\n",
        "Credit Card Fraud Detection\n",
        "\n",
        "Данный датасет является примером несбалансированных данных, так как мошеннические операции с картами встречаются реже обычных.\n"
      ]
    },
    {
      "cell_type": "markdown",
      "metadata": {
        "id": "l57iMRM0njGr"
      },
      "source": [
        "Импортруйте библиотеку Pandas, а также используйте для графиков стиль “fivethirtyeight”.\n",
        "\n",
        "Посчитайте с помощью метода value_counts количество наблюдений для каждого значения целевой переменной Class и примените к полученным данным метод plot, чтобы построить столбчатую диаграмму. Затем постройте такую же диаграмму, используя логарифмический масштаб.\n"
      ]
    },
    {
      "cell_type": "code",
      "metadata": {
        "id": "0kVBFRpnmLRJ"
      },
      "source": [
        "import pandas as pd\n",
        "plt.style.use('fivethirtyeight')\n"
      ],
      "execution_count": 106,
      "outputs": []
    },
    {
      "cell_type": "code",
      "metadata": {
        "colab": {
          "base_uri": "https://localhost:8080/"
        },
        "id": "-39kIE8qoUCt",
        "outputId": "6608ee48-e542-41a3-f99e-d8ff122c28a1"
      },
      "source": [
        "card = pd.read_csv('/content/drive/MyDrive/Data/creditcard.csv')\n",
        "print(cart)"
      ],
      "execution_count": 107,
      "outputs": [
        {
          "output_type": "stream",
          "text": [
            "            Time         V1         V2  ...       V28  Amount  Class\n",
            "0            0.0  -1.359807  -0.072781  ... -0.021053  149.62      0\n",
            "1            0.0   1.191857   0.266151  ...  0.014724    2.69      0\n",
            "2            1.0  -1.358354  -1.340163  ... -0.059752  378.66      0\n",
            "3            1.0  -0.966272  -0.185226  ...  0.061458  123.50      0\n",
            "4            2.0  -1.158233   0.877737  ...  0.215153   69.99      0\n",
            "...          ...        ...        ...  ...       ...     ...    ...\n",
            "284802  172786.0 -11.881118  10.071785  ...  0.823731    0.77      0\n",
            "284803  172787.0  -0.732789  -0.055080  ... -0.053527   24.79      0\n",
            "284804  172788.0   1.919565  -0.301254  ... -0.026561   67.88      0\n",
            "284805  172788.0  -0.240440   0.530483  ...  0.104533   10.00      0\n",
            "284806  172792.0  -0.533413  -0.189733  ...  0.013649  217.00      0\n",
            "\n",
            "[284807 rows x 31 columns]\n"
          ],
          "name": "stdout"
        }
      ]
    },
    {
      "cell_type": "code",
      "metadata": {
        "id": "6xkd7X4nq1hh",
        "colab": {
          "base_uri": "https://localhost:8080/"
        },
        "outputId": "158596fc-54f5-4e0d-930b-efb161f3dee6"
      },
      "source": [
        "class_per = card['Class'].value_counts()\n",
        "print(class_per)"
      ],
      "execution_count": 108,
      "outputs": [
        {
          "output_type": "stream",
          "text": [
            "0    284315\n",
            "1       492\n",
            "Name: Class, dtype: int64\n"
          ],
          "name": "stdout"
        }
      ]
    },
    {
      "cell_type": "code",
      "metadata": {
        "colab": {
          "base_uri": "https://localhost:8080/",
          "height": 277
        },
        "id": "tUSMOJPUxX92",
        "outputId": "5e65863b-ded9-4c6a-d63e-0401a2aece4c"
      },
      "source": [
        "class_per.plot(kind='bar')\n",
        "plt.show()"
      ],
      "execution_count": 109,
      "outputs": [
        {
          "output_type": "display_data",
          "data": {
            "image/png": "[encoded data removed]",
            "text/plain": [
              "<Figure size 432x288 with 1 Axes>"
            ]
          },
          "metadata": {
            "tags": []
          }
        }
      ]
    },
    {
      "cell_type": "code",
      "metadata": {
        "colab": {
          "base_uri": "https://localhost:8080/",
          "height": 277
        },
        "id": "4F7RxM7Cx8cb",
        "outputId": "5ad595d9-6274-487c-a6a4-34f14cc4d770"
      },
      "source": [
        "class_per.plot(kind='bar', logy=True)\n",
        "plt.show()"
      ],
      "execution_count": 110,
      "outputs": [
        {
          "output_type": "display_data",
          "data": {
            "image/png": "[encoded data removed]",
            "text/plain": [
              "<Figure size 432x288 with 1 Axes>"
            ]
          },
          "metadata": {
            "tags": []
          }
        }
      ]
    },
    {
      "cell_type": "markdown",
      "metadata": {
        "id": "IqFmBeW8yQHJ"
      },
      "source": [
        "На следующем графике постройте две гистограммы по значениям признака V1 - одну для мошеннических транзакций (Class равен 1) и другую - для обычных (Class равен 0). Подберите значение аргумента density так, чтобы по вертикали графика было расположено не число наблюдений, а плотность распределения. Число бинов должно равняться 20 для обеих гистограмм, а коэффициент alpha сделайте равным 0.5, чтобы гистограммы были полупрозрачными и не загораживали друг друга. Создайте легенду с двумя значениями: “Class 0” и “Class 1”. Гистограмма обычных транзакций должна быть серого цвета, а мошеннических - красного. Горизонтальной оси дайте название “Class”."
      ]
    },
    {
      "cell_type": "code",
      "metadata": {
        "id": "Zy5fbe7PyTfs"
      },
      "source": [
        "class_0 = card.loc[card['Class'] == 0, ['V1']]\n",
        "class_1 = card.loc[card['Class'] == 1, ['V1']]\n",
        "\n"
      ],
      "execution_count": 111,
      "outputs": []
    },
    {
      "cell_type": "code",
      "metadata": {
        "colab": {
          "base_uri": "https://localhost:8080/",
          "height": 299
        },
        "id": "0ebUTSGq2vPw",
        "outputId": "ac978ca3-55da-4ac0-fc5f-daa43d5184e9"
      },
      "source": [
        "plt.hist(class_0['V1'], bins=20, density=True, alpha=0.5, label='Class 0', color='grey')\n",
        "plt.hist(class_1['V1'], bins=20, density=True, alpha=0.5, label='Class 1', color='red')\n",
        "plt.xlabel('Class', fontsize='12')\n",
        "plt.legend()\n",
        "plt.show()"
      ],
      "execution_count": 117,
      "outputs": [
        {
          "output_type": "display_data",
          "data": {
            "image/png": "[encoded data removed]",
            "text/plain": [
              "<Figure size 432x288 with 1 Axes>"
            ]
          },
          "metadata": {
            "tags": []
          }
        }
      ]
    }
  ]
}