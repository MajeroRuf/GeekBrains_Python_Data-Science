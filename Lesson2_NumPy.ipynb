{
  "nbformat": 4,
  "nbformat_minor": 0,
  "metadata": {
    "colab": {
      "name": "Lesson2_NumPy.ipynb",
      "provenance": [],
      "collapsed_sections": [],
      "toc_visible": true,
      "include_colab_link": true
    },
    "kernelspec": {
      "name": "python3",
      "display_name": "Python 3"
    },
    "language_info": {
      "name": "python"
    }
  },
  "cells": [
    {
      "cell_type": "markdown",
      "metadata": {
        "id": "view-in-github",
        "colab_type": "text"
      },
      "source": [
        "<a href=\"https://colab.research.google.com/github/MajeroRuf/GeekBrains_Python_Data-Science/blob/lesson2/Lesson2_NumPy.ipynb\" target=\"_parent\"><img src=\"https://colab.research.google.com/assets/colab-badge.svg\" alt=\"Open In Colab\"/></a>"
      ]
    },
    {
      "cell_type": "markdown",
      "metadata": {
        "id": "cJbx44fyUlcU"
      },
      "source": [
        "#Тема “Вычисления с помощью Numpy”\n"
      ]
    },
    {
      "cell_type": "markdown",
      "metadata": {
        "id": "xtJuAiOCUtQa"
      },
      "source": [
        "####Задание 1\n"
      ]
    },
    {
      "cell_type": "markdown",
      "metadata": {
        "id": "kg-UmBtLVEh1"
      },
      "source": [
        "Импортируйте библиотеку Numpy и дайте ей псевдоним np.\n",
        "Создайте массив Numpy под названием a размером 5x2, то есть состоящий из 5 строк и 2 столбцов. Первый столбец должен содержать числа 1, 2, 3, 3, 1, а второй - числа 6, 8, 11, 10, 7. Будем считать, что каждый столбец - это признак, а строка - наблюдение. Затем найдите среднее значение по каждому признаку, используя метод mean массива Numpy. Результат запишите в массив mean_a, в нем должно быть 2 элемента.\n"
      ]
    },
    {
      "cell_type": "code",
      "metadata": {
        "id": "J_6KYqJQVLbz"
      },
      "source": [
        "import numpy as np\n"
      ],
      "execution_count": null,
      "outputs": []
    },
    {
      "cell_type": "markdown",
      "metadata": {
        "id": "u5TpRE5w7Fzq"
      },
      "source": [
        "Пусть дана матрица  A . Транспонированной матрицей называется матрица  A⊤ , полученная \"отражением\" матрицы  A  относительно её главной диагонали. Другими словами, столбцы матрицы  A  становятся строками матрицы  A⊤ , а строки матрицы  A  - столбцами матрицы  A⊤ .\n",
        "\n",
        "Вот несколько способов посчитать транспонированную матрицу в numpy:\n",
        "\n",
        "с помощью функции np.transpose: A_t = np.transpose(A)\n",
        "\n",
        "с помощью метода A.transpose: A_t = A.transpose()\n",
        "\n",
        "с помощью атрибута A.T: A_t = A.T"
      ]
    },
    {
      "cell_type": "code",
      "metadata": {
        "colab": {
          "base_uri": "https://localhost:8080/"
        },
        "id": "VWqC5br6VR8P",
        "outputId": "5bd2f85c-9283-4e09-e846-9226d95d3366"
      },
      "source": [
        "a = np.array([[1, 2, 3, 3, 1], [6, 8, 11, 10, 7]]).transpose()\n",
        "print(a)"
      ],
      "execution_count": null,
      "outputs": [
        {
          "output_type": "stream",
          "text": [
            "[[ 1  6]\n",
            " [ 2  8]\n",
            " [ 3 11]\n",
            " [ 3 10]\n",
            " [ 1  7]]\n"
          ],
          "name": "stdout"
        }
      ]
    },
    {
      "cell_type": "code",
      "metadata": {
        "colab": {
          "base_uri": "https://localhost:8080/"
        },
        "id": "IHVPBVDfr1UJ",
        "outputId": "66c977f5-e4d9-4e1b-bf7b-d17b07f476da"
      },
      "source": [
        "mean_a = np.mean(a, axis=0)\n",
        "print(mean_a)"
      ],
      "execution_count": null,
      "outputs": [
        {
          "output_type": "stream",
          "text": [
            "[2.  8.4]\n"
          ],
          "name": "stdout"
        }
      ]
    },
    {
      "cell_type": "markdown",
      "metadata": {
        "id": "R1ptc4mZuY48"
      },
      "source": [
        "####Задание 2"
      ]
    },
    {
      "cell_type": "markdown",
      "metadata": {
        "id": "RM_cxJpbuhZu"
      },
      "source": [
        "Вычислите массив a_centered, отняв от значений массива “а” средние значения соответствующих признаков, содержащиеся в массиве mean_a. Вычисление должно производиться в одно действие. Получившийся массив должен иметь размер 5x2."
      ]
    },
    {
      "cell_type": "code",
      "metadata": {
        "colab": {
          "base_uri": "https://localhost:8080/"
        },
        "id": "R6SjwT4AunEc",
        "outputId": "f68bc9f3-2e16-4f69-ce8c-438aa0af0c14"
      },
      "source": [
        "a_centered = np.subtract(a, mean_a)\n",
        "print(a_centered)"
      ],
      "execution_count": null,
      "outputs": [
        {
          "output_type": "stream",
          "text": [
            "[[-1.  -2.4]\n",
            " [ 0.  -0.4]\n",
            " [ 1.   2.6]\n",
            " [ 1.   1.6]\n",
            " [-1.  -1.4]]\n"
          ],
          "name": "stdout"
        }
      ]
    },
    {
      "cell_type": "markdown",
      "metadata": {
        "id": "iXBCgf6mw4na"
      },
      "source": [
        "**Текст, выделенный полужирным шрифтом**####Задание 3"
      ]
    },
    {
      "cell_type": "markdown",
      "metadata": {
        "id": "39BgKpY8w8nw"
      },
      "source": [
        "Найдите скалярное произведение столбцов массива a_centered. В результате должна получиться величина a_centered_sp. Затем поделите a_centered_sp на N-1, где N - число наблюдений.\n"
      ]
    },
    {
      "cell_type": "code",
      "metadata": {
        "colab": {
          "base_uri": "https://localhost:8080/"
        },
        "id": "t15q6cdQxHVe",
        "outputId": "a6388b14-b908-40d6-cfcf-9df9efe20721"
      },
      "source": [
        "a_centered_sp = np.dot(a_centered.T[0],a_centered.T[1])\n",
        "print(a_centered_sp)"
      ],
      "execution_count": null,
      "outputs": [
        {
          "output_type": "stream",
          "text": [
            "8.0\n"
          ],
          "name": "stdout"
        }
      ]
    },
    {
      "cell_type": "code",
      "metadata": {
        "colab": {
          "base_uri": "https://localhost:8080/"
        },
        "id": "GCEP2Ymk5HaD",
        "outputId": "40ad8100-2b2c-49cd-d0a1-8b6225a59ac7"
      },
      "source": [
        "a_centered_sp / (a.shape[0] -1)"
      ],
      "execution_count": null,
      "outputs": [
        {
          "output_type": "execute_result",
          "data": {
            "text/plain": [
              "2.0"
            ]
          },
          "metadata": {
            "tags": []
          },
          "execution_count": 78
        }
      ]
    },
    {
      "cell_type": "markdown",
      "metadata": {
        "id": "ozRNbe_7vEhV"
      },
      "source": [
        "####Задание 4\n"
      ]
    },
    {
      "cell_type": "markdown",
      "metadata": {
        "id": "B4kGBmus9mmS"
      },
      "source": [
        "Число, которое мы получили в конце задания 3 является ковариацией двух признаков, содержащихся в массиве “а”. В задании 4 мы делили сумму произведений центрированных признаков на N-1, а не на N, поэтому полученная нами величина является несмещенной оценкой ковариации.\n",
        "\n",
        "В этом задании проверьте получившееся число, вычислив ковариацию еще одним способом - с помощью функции np.cov. В качестве аргумента m функция np.cov должна принимать транспонированный массив “a”. В получившейся ковариационной матрице (массив Numpy размером 2x2) искомое значение ковариации будет равно элементу в строке с индексом 0 и столбце с индексом 1.\n"
      ]
    },
    {
      "cell_type": "code",
      "metadata": {
        "colab": {
          "base_uri": "https://localhost:8080/"
        },
        "id": "4TO2pNVQ9gNj",
        "outputId": "6610fc8c-dace-40a4-8a79-1856f08e5b8f"
      },
      "source": [
        "np.cov(a.T)[0,1]"
      ],
      "execution_count": null,
      "outputs": [
        {
          "output_type": "execute_result",
          "data": {
            "text/plain": [
              "2.0"
            ]
          },
          "metadata": {
            "tags": []
          },
          "execution_count": 77
        }
      ]
    }
  ]
}